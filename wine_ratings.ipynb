{
  "nbformat": 4,
  "nbformat_minor": 0,
  "metadata": {
    "colab": {
      "name": "wine-ratings.ipynb",
      "provenance": []
    },
    "kernelspec": {
      "name": "python3",
      "display_name": "Python 3"
    }
  },
  "cells": [
    {
      "cell_type": "markdown",
      "metadata": {
        "id": "CKIUTNLp5Wrn"
      },
      "source": [
        "## Machine Learning for Wine Ratings"
      ]
    },
    {
      "cell_type": "code",
      "metadata": {
        "colab": {
          "base_uri": "https://localhost:8080/"
        },
        "id": "wNlaRyzX5TCV",
        "outputId": "ea1171eb-d39a-492d-9cd7-543cd2fac173"
      },
      "source": [
        "!pip install pandas\n"
      ],
      "execution_count": 1,
      "outputs": [
        {
          "output_type": "stream",
          "text": [
            "Requirement already satisfied: pandas in /usr/local/lib/python3.6/dist-packages (1.1.5)\n",
            "Requirement already satisfied: python-dateutil>=2.7.3 in /usr/local/lib/python3.6/dist-packages (from pandas) (2.8.1)\n",
            "Requirement already satisfied: pytz>=2017.2 in /usr/local/lib/python3.6/dist-packages (from pandas) (2018.9)\n",
            "Requirement already satisfied: numpy>=1.15.4 in /usr/local/lib/python3.6/dist-packages (from pandas) (1.19.4)\n",
            "Requirement already satisfied: six>=1.5 in /usr/local/lib/python3.6/dist-packages (from python-dateutil>=2.7.3->pandas) (1.15.0)\n"
          ],
          "name": "stdout"
        }
      ]
    },
    {
      "cell_type": "markdown",
      "metadata": {
        "id": "epd1j2QtbGkc"
      },
      "source": [
        "### Create a Pandas Frame from an online CSV\n",
        "Note that this requires a publicly available repository in Github (for this example). A private repo will require auth."
      ]
    },
    {
      "cell_type": "code",
      "metadata": {
        "colab": {
          "base_uri": "https://localhost:8080/",
          "height": 536
        },
        "id": "KW8ppx1oZS00",
        "outputId": "3e32d21a-3460-4f55-8ded-58d120755248"
      },
      "source": [
        "import pandas as pd\n",
        "csv_url = \"https://raw.githubusercontent.com/paiml/wine-ratings/main/wine-ratings.csv\"\n",
        "# set index_col to 0 to tell pandas that the first column is the index\n",
        "df = pd.read_csv(csv_url, index_col=0)\n",
        "df.head(10)"
      ],
      "execution_count": 14,
      "outputs": [
        {
          "output_type": "execute_result",
          "data": {
            "text/html": [
              "<div>\n",
              "<style scoped>\n",
              "    .dataframe tbody tr th:only-of-type {\n",
              "        vertical-align: middle;\n",
              "    }\n",
              "\n",
              "    .dataframe tbody tr th {\n",
              "        vertical-align: top;\n",
              "    }\n",
              "\n",
              "    .dataframe thead th {\n",
              "        text-align: right;\n",
              "    }\n",
              "</style>\n",
              "<table border=\"1\" class=\"dataframe\">\n",
              "  <thead>\n",
              "    <tr style=\"text-align: right;\">\n",
              "      <th></th>\n",
              "      <th>name</th>\n",
              "      <th>grape</th>\n",
              "      <th>region</th>\n",
              "      <th>variety</th>\n",
              "      <th>rating</th>\n",
              "      <th>notes</th>\n",
              "    </tr>\n",
              "  </thead>\n",
              "  <tbody>\n",
              "    <tr>\n",
              "      <th>0</th>\n",
              "      <td>1000 Stories Bourbon Barrel Aged Batch Blue Ca...</td>\n",
              "      <td>NaN</td>\n",
              "      <td>Mendocino, California</td>\n",
              "      <td>Red Wine</td>\n",
              "      <td>91.0</td>\n",
              "      <td>This is a very special, limited release of 100...</td>\n",
              "    </tr>\n",
              "    <tr>\n",
              "      <th>1</th>\n",
              "      <td>1000 Stories Bourbon Barrel Aged Gold Rush Red...</td>\n",
              "      <td>NaN</td>\n",
              "      <td>California</td>\n",
              "      <td>Red Wine</td>\n",
              "      <td>89.0</td>\n",
              "      <td>The California Gold Rush was a period of coura...</td>\n",
              "    </tr>\n",
              "    <tr>\n",
              "      <th>2</th>\n",
              "      <td>1000 Stories Bourbon Barrel Aged Gold Rush Red...</td>\n",
              "      <td>NaN</td>\n",
              "      <td>California</td>\n",
              "      <td>Red Wine</td>\n",
              "      <td>90.0</td>\n",
              "      <td>The California Gold Rush was a period of coura...</td>\n",
              "    </tr>\n",
              "    <tr>\n",
              "      <th>3</th>\n",
              "      <td>1000 Stories Bourbon Barrel Aged Zinfandel 2013</td>\n",
              "      <td>NaN</td>\n",
              "      <td>North Coast, California</td>\n",
              "      <td>Red Wine</td>\n",
              "      <td>91.0</td>\n",
              "      <td>The wine has a deep, rich purple color. An int...</td>\n",
              "    </tr>\n",
              "    <tr>\n",
              "      <th>4</th>\n",
              "      <td>1000 Stories Bourbon Barrel Aged Zinfandel 2014</td>\n",
              "      <td>NaN</td>\n",
              "      <td>California</td>\n",
              "      <td>Red Wine</td>\n",
              "      <td>90.0</td>\n",
              "      <td>Batch #004 is the first release of the 2014 vi...</td>\n",
              "    </tr>\n",
              "    <tr>\n",
              "      <th>5</th>\n",
              "      <td>1000 Stories Bourbon Barrel Aged Zinfandel 2016</td>\n",
              "      <td>NaN</td>\n",
              "      <td>California</td>\n",
              "      <td>Red Wine</td>\n",
              "      <td>91.0</td>\n",
              "      <td>1,000 Stories Bourbon barrel-aged Zinfandel is...</td>\n",
              "    </tr>\n",
              "    <tr>\n",
              "      <th>6</th>\n",
              "      <td>1000 Stories Bourbon Barrel Aged Zinfandel 2017</td>\n",
              "      <td>NaN</td>\n",
              "      <td>California</td>\n",
              "      <td>Red Wine</td>\n",
              "      <td>92.0</td>\n",
              "      <td>Batch 55 embodies an opulent vintage, which sa...</td>\n",
              "    </tr>\n",
              "    <tr>\n",
              "      <th>7</th>\n",
              "      <td>12 Linajes Crianza 2014</td>\n",
              "      <td>NaN</td>\n",
              "      <td>Ribera del Duero, Spain</td>\n",
              "      <td>Red Wine</td>\n",
              "      <td>92.0</td>\n",
              "      <td>Red with violet hues. The aromas are very inte...</td>\n",
              "    </tr>\n",
              "    <tr>\n",
              "      <th>8</th>\n",
              "      <td>12 Linajes Reserva 2012</td>\n",
              "      <td>NaN</td>\n",
              "      <td>Ribera del Duero, Spain</td>\n",
              "      <td>Red Wine</td>\n",
              "      <td>94.0</td>\n",
              "      <td>On the nose, a complex predominance of mineral...</td>\n",
              "    </tr>\n",
              "    <tr>\n",
              "      <th>9</th>\n",
              "      <td>14 Hands Cabernet Sauvignon 2010</td>\n",
              "      <td>NaN</td>\n",
              "      <td>Columbia Valley, Washington</td>\n",
              "      <td>Red Wine</td>\n",
              "      <td>87.0</td>\n",
              "      <td>Concentrated aromas of dark stone fruits and t...</td>\n",
              "    </tr>\n",
              "  </tbody>\n",
              "</table>\n",
              "</div>"
            ],
            "text/plain": [
              "                                                name  ...                                              notes\n",
              "0  1000 Stories Bourbon Barrel Aged Batch Blue Ca...  ...  This is a very special, limited release of 100...\n",
              "1  1000 Stories Bourbon Barrel Aged Gold Rush Red...  ...  The California Gold Rush was a period of coura...\n",
              "2  1000 Stories Bourbon Barrel Aged Gold Rush Red...  ...  The California Gold Rush was a period of coura...\n",
              "3    1000 Stories Bourbon Barrel Aged Zinfandel 2013  ...  The wine has a deep, rich purple color. An int...\n",
              "4    1000 Stories Bourbon Barrel Aged Zinfandel 2014  ...  Batch #004 is the first release of the 2014 vi...\n",
              "5    1000 Stories Bourbon Barrel Aged Zinfandel 2016  ...  1,000 Stories Bourbon barrel-aged Zinfandel is...\n",
              "6    1000 Stories Bourbon Barrel Aged Zinfandel 2017  ...  Batch 55 embodies an opulent vintage, which sa...\n",
              "7                            12 Linajes Crianza 2014  ...  Red with violet hues. The aromas are very inte...\n",
              "8                            12 Linajes Reserva 2012  ...  On the nose, a complex predominance of mineral...\n",
              "9                   14 Hands Cabernet Sauvignon 2010  ...  Concentrated aromas of dark stone fruits and t...\n",
              "\n",
              "[10 rows x 6 columns]"
            ]
          },
          "metadata": {
            "tags": []
          },
          "execution_count": 14
        }
      ]
    },
    {
      "cell_type": "markdown",
      "metadata": {
        "id": "L2-be7klcP26"
      },
      "source": [
        "Remove any newlines or carriage returns"
      ]
    },
    {
      "cell_type": "code",
      "metadata": {
        "colab": {
          "base_uri": "https://localhost:8080/",
          "height": 536
        },
        "id": "Cwlr9IajcPSs",
        "outputId": "630d98c4-ddf0-4ded-85a7-9b5c3a274be5"
      },
      "source": [
        "df = df.replace({\"\\r\": \"\"}, regex=True)\n",
        "df = df.replace({\"\\n\": \" \"}, regex=True)\n",
        "df.head(10)"
      ],
      "execution_count": 10,
      "outputs": [
        {
          "output_type": "execute_result",
          "data": {
            "text/html": [
              "<div>\n",
              "<style scoped>\n",
              "    .dataframe tbody tr th:only-of-type {\n",
              "        vertical-align: middle;\n",
              "    }\n",
              "\n",
              "    .dataframe tbody tr th {\n",
              "        vertical-align: top;\n",
              "    }\n",
              "\n",
              "    .dataframe thead th {\n",
              "        text-align: right;\n",
              "    }\n",
              "</style>\n",
              "<table border=\"1\" class=\"dataframe\">\n",
              "  <thead>\n",
              "    <tr style=\"text-align: right;\">\n",
              "      <th></th>\n",
              "      <th>name</th>\n",
              "      <th>grape</th>\n",
              "      <th>region</th>\n",
              "      <th>variety</th>\n",
              "      <th>rating</th>\n",
              "      <th>notes</th>\n",
              "    </tr>\n",
              "  </thead>\n",
              "  <tbody>\n",
              "    <tr>\n",
              "      <th>0</th>\n",
              "      <td>1000 Stories Bourbon Barrel Aged Batch Blue Ca...</td>\n",
              "      <td>NaN</td>\n",
              "      <td>Mendocino, California</td>\n",
              "      <td>Red Wine</td>\n",
              "      <td>91.0</td>\n",
              "      <td>This is a very special, limited release of 100...</td>\n",
              "    </tr>\n",
              "    <tr>\n",
              "      <th>1</th>\n",
              "      <td>1000 Stories Bourbon Barrel Aged Gold Rush Red...</td>\n",
              "      <td>NaN</td>\n",
              "      <td>California</td>\n",
              "      <td>Red Wine</td>\n",
              "      <td>89.0</td>\n",
              "      <td>The California Gold Rush was a period of coura...</td>\n",
              "    </tr>\n",
              "    <tr>\n",
              "      <th>2</th>\n",
              "      <td>1000 Stories Bourbon Barrel Aged Gold Rush Red...</td>\n",
              "      <td>NaN</td>\n",
              "      <td>California</td>\n",
              "      <td>Red Wine</td>\n",
              "      <td>90.0</td>\n",
              "      <td>The California Gold Rush was a period of coura...</td>\n",
              "    </tr>\n",
              "    <tr>\n",
              "      <th>3</th>\n",
              "      <td>1000 Stories Bourbon Barrel Aged Zinfandel 2013</td>\n",
              "      <td>NaN</td>\n",
              "      <td>North Coast, California</td>\n",
              "      <td>Red Wine</td>\n",
              "      <td>91.0</td>\n",
              "      <td>The wine has a deep, rich purple color. An int...</td>\n",
              "    </tr>\n",
              "    <tr>\n",
              "      <th>4</th>\n",
              "      <td>1000 Stories Bourbon Barrel Aged Zinfandel 2014</td>\n",
              "      <td>NaN</td>\n",
              "      <td>California</td>\n",
              "      <td>Red Wine</td>\n",
              "      <td>90.0</td>\n",
              "      <td>Batch #004 is the first release of the 2014 vi...</td>\n",
              "    </tr>\n",
              "    <tr>\n",
              "      <th>5</th>\n",
              "      <td>1000 Stories Bourbon Barrel Aged Zinfandel 2016</td>\n",
              "      <td>NaN</td>\n",
              "      <td>California</td>\n",
              "      <td>Red Wine</td>\n",
              "      <td>91.0</td>\n",
              "      <td>1,000 Stories Bourbon barrel-aged Zinfandel is...</td>\n",
              "    </tr>\n",
              "    <tr>\n",
              "      <th>6</th>\n",
              "      <td>1000 Stories Bourbon Barrel Aged Zinfandel 2017</td>\n",
              "      <td>NaN</td>\n",
              "      <td>California</td>\n",
              "      <td>Red Wine</td>\n",
              "      <td>92.0</td>\n",
              "      <td>Batch 55 embodies an opulent vintage, which sa...</td>\n",
              "    </tr>\n",
              "    <tr>\n",
              "      <th>7</th>\n",
              "      <td>12 Linajes Crianza 2014</td>\n",
              "      <td>NaN</td>\n",
              "      <td>Ribera del Duero, Spain</td>\n",
              "      <td>Red Wine</td>\n",
              "      <td>92.0</td>\n",
              "      <td>Red with violet hues. The aromas are very inte...</td>\n",
              "    </tr>\n",
              "    <tr>\n",
              "      <th>8</th>\n",
              "      <td>12 Linajes Reserva 2012</td>\n",
              "      <td>NaN</td>\n",
              "      <td>Ribera del Duero, Spain</td>\n",
              "      <td>Red Wine</td>\n",
              "      <td>94.0</td>\n",
              "      <td>On the nose, a complex predominance of mineral...</td>\n",
              "    </tr>\n",
              "    <tr>\n",
              "      <th>9</th>\n",
              "      <td>14 Hands Cabernet Sauvignon 2010</td>\n",
              "      <td>NaN</td>\n",
              "      <td>Columbia Valley, Washington</td>\n",
              "      <td>Red Wine</td>\n",
              "      <td>87.0</td>\n",
              "      <td>Concentrated aromas of dark stone fruits and t...</td>\n",
              "    </tr>\n",
              "  </tbody>\n",
              "</table>\n",
              "</div>"
            ],
            "text/plain": [
              "                                                name  ...                                              notes\n",
              "0  1000 Stories Bourbon Barrel Aged Batch Blue Ca...  ...  This is a very special, limited release of 100...\n",
              "1  1000 Stories Bourbon Barrel Aged Gold Rush Red...  ...  The California Gold Rush was a period of coura...\n",
              "2  1000 Stories Bourbon Barrel Aged Gold Rush Red...  ...  The California Gold Rush was a period of coura...\n",
              "3    1000 Stories Bourbon Barrel Aged Zinfandel 2013  ...  The wine has a deep, rich purple color. An int...\n",
              "4    1000 Stories Bourbon Barrel Aged Zinfandel 2014  ...  Batch #004 is the first release of the 2014 vi...\n",
              "5    1000 Stories Bourbon Barrel Aged Zinfandel 2016  ...  1,000 Stories Bourbon barrel-aged Zinfandel is...\n",
              "6    1000 Stories Bourbon Barrel Aged Zinfandel 2017  ...  Batch 55 embodies an opulent vintage, which sa...\n",
              "7                            12 Linajes Crianza 2014  ...  Red with violet hues. The aromas are very inte...\n",
              "8                            12 Linajes Reserva 2012  ...  On the nose, a complex predominance of mineral...\n",
              "9                   14 Hands Cabernet Sauvignon 2010  ...  Concentrated aromas of dark stone fruits and t...\n",
              "\n",
              "[10 rows x 6 columns]"
            ]
          },
          "metadata": {
            "tags": []
          },
          "execution_count": 10
        }
      ]
    },
    {
      "cell_type": "code",
      "metadata": {
        "colab": {
          "base_uri": "https://localhost:8080/",
          "height": 300
        },
        "id": "0TgdCnlqfXAC",
        "outputId": "a3806e7a-bc22-475e-bb2d-6f233bf1da92"
      },
      "source": [
        "df.describe()"
      ],
      "execution_count": 11,
      "outputs": [
        {
          "output_type": "execute_result",
          "data": {
            "text/html": [
              "<div>\n",
              "<style scoped>\n",
              "    .dataframe tbody tr th:only-of-type {\n",
              "        vertical-align: middle;\n",
              "    }\n",
              "\n",
              "    .dataframe tbody tr th {\n",
              "        vertical-align: top;\n",
              "    }\n",
              "\n",
              "    .dataframe thead th {\n",
              "        text-align: right;\n",
              "    }\n",
              "</style>\n",
              "<table border=\"1\" class=\"dataframe\">\n",
              "  <thead>\n",
              "    <tr style=\"text-align: right;\">\n",
              "      <th></th>\n",
              "      <th>grape</th>\n",
              "      <th>rating</th>\n",
              "    </tr>\n",
              "  </thead>\n",
              "  <tbody>\n",
              "    <tr>\n",
              "      <th>count</th>\n",
              "      <td>0.0</td>\n",
              "      <td>32780.000000</td>\n",
              "    </tr>\n",
              "    <tr>\n",
              "      <th>mean</th>\n",
              "      <td>NaN</td>\n",
              "      <td>91.186608</td>\n",
              "    </tr>\n",
              "    <tr>\n",
              "      <th>std</th>\n",
              "      <td>NaN</td>\n",
              "      <td>2.190391</td>\n",
              "    </tr>\n",
              "    <tr>\n",
              "      <th>min</th>\n",
              "      <td>NaN</td>\n",
              "      <td>85.000000</td>\n",
              "    </tr>\n",
              "    <tr>\n",
              "      <th>25%</th>\n",
              "      <td>NaN</td>\n",
              "      <td>90.000000</td>\n",
              "    </tr>\n",
              "    <tr>\n",
              "      <th>50%</th>\n",
              "      <td>NaN</td>\n",
              "      <td>91.000000</td>\n",
              "    </tr>\n",
              "    <tr>\n",
              "      <th>75%</th>\n",
              "      <td>NaN</td>\n",
              "      <td>92.000000</td>\n",
              "    </tr>\n",
              "    <tr>\n",
              "      <th>max</th>\n",
              "      <td>NaN</td>\n",
              "      <td>99.000000</td>\n",
              "    </tr>\n",
              "  </tbody>\n",
              "</table>\n",
              "</div>"
            ],
            "text/plain": [
              "       grape        rating\n",
              "count    0.0  32780.000000\n",
              "mean     NaN     91.186608\n",
              "std      NaN      2.190391\n",
              "min      NaN     85.000000\n",
              "25%      NaN     90.000000\n",
              "50%      NaN     91.000000\n",
              "75%      NaN     92.000000\n",
              "max      NaN     99.000000"
            ]
          },
          "metadata": {
            "tags": []
          },
          "execution_count": 11
        }
      ]
    },
    {
      "cell_type": "code",
      "metadata": {
        "colab": {
          "base_uri": "https://localhost:8080/",
          "height": 300
        },
        "id": "QfFqnieWgAkU",
        "outputId": "2e72303a-f6d2-46e6-c05d-25c2f26f6130"
      },
      "source": [
        "# the grape is not a very good column, lets remove it and describe it again\n",
        "df.drop(['grape'], axis=1, inplace=True)\n",
        "df.describe()"
      ],
      "execution_count": 15,
      "outputs": [
        {
          "output_type": "execute_result",
          "data": {
            "text/html": [
              "<div>\n",
              "<style scoped>\n",
              "    .dataframe tbody tr th:only-of-type {\n",
              "        vertical-align: middle;\n",
              "    }\n",
              "\n",
              "    .dataframe tbody tr th {\n",
              "        vertical-align: top;\n",
              "    }\n",
              "\n",
              "    .dataframe thead th {\n",
              "        text-align: right;\n",
              "    }\n",
              "</style>\n",
              "<table border=\"1\" class=\"dataframe\">\n",
              "  <thead>\n",
              "    <tr style=\"text-align: right;\">\n",
              "      <th></th>\n",
              "      <th>rating</th>\n",
              "    </tr>\n",
              "  </thead>\n",
              "  <tbody>\n",
              "    <tr>\n",
              "      <th>count</th>\n",
              "      <td>32780.000000</td>\n",
              "    </tr>\n",
              "    <tr>\n",
              "      <th>mean</th>\n",
              "      <td>91.186608</td>\n",
              "    </tr>\n",
              "    <tr>\n",
              "      <th>std</th>\n",
              "      <td>2.190391</td>\n",
              "    </tr>\n",
              "    <tr>\n",
              "      <th>min</th>\n",
              "      <td>85.000000</td>\n",
              "    </tr>\n",
              "    <tr>\n",
              "      <th>25%</th>\n",
              "      <td>90.000000</td>\n",
              "    </tr>\n",
              "    <tr>\n",
              "      <th>50%</th>\n",
              "      <td>91.000000</td>\n",
              "    </tr>\n",
              "    <tr>\n",
              "      <th>75%</th>\n",
              "      <td>92.000000</td>\n",
              "    </tr>\n",
              "    <tr>\n",
              "      <th>max</th>\n",
              "      <td>99.000000</td>\n",
              "    </tr>\n",
              "  </tbody>\n",
              "</table>\n",
              "</div>"
            ],
            "text/plain": [
              "             rating\n",
              "count  32780.000000\n",
              "mean      91.186608\n",
              "std        2.190391\n",
              "min       85.000000\n",
              "25%       90.000000\n",
              "50%       91.000000\n",
              "75%       92.000000\n",
              "max       99.000000"
            ]
          },
          "metadata": {
            "tags": []
          },
          "execution_count": 15
        }
      ]
    }
  ]
}